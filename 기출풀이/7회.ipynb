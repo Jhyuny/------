{
 "cells": [
  {
   "cell_type": "markdown",
   "metadata": {},
   "source": [
    "## 기출 7회 변형 풀이"
   ]
  },
  {
   "cell_type": "markdown",
   "metadata": {},
   "source": [
    "### 작업 1유형"
   ]
  },
  {
   "cell_type": "code",
   "execution_count": 3,
   "metadata": {},
   "outputs": [],
   "source": [
    "import pandas as pd\n",
    "DataUrl = 'https://raw.githubusercontent.com/Datamanim/datarepo/main/krdatacertificate/e7_p1.csv '\n",
    "\n",
    "df = pd.read_csv(DataUrl)"
   ]
  },
  {
   "cell_type": "code",
   "execution_count": 4,
   "metadata": {},
   "outputs": [
    {
     "name": "stdout",
     "output_type": "stream",
     "text": [
      "0    -1.060650\n",
      "1     1.293476\n",
      "2    -1.396954\n",
      "3    -0.388043\n",
      "4    -1.144726\n",
      "5          NaN\n",
      "6     0.620868\n",
      "7     0.789020\n",
      "8     1.713856\n",
      "9     0.284565\n",
      "10   -0.640271\n",
      "11   -1.228802\n",
      "12    0.873096\n",
      "13         NaN\n",
      "14    0.284565\n",
      "Name: 국어, dtype: float64\n"
     ]
    },
    {
     "data": {
      "text/plain": [
       "1.713855688712825"
      ]
     },
     "execution_count": 4,
     "metadata": {},
     "output_type": "execute_result"
    }
   ],
   "source": [
    "# 1-1 국어,수학,영어,과학 과목 중 가장 많은 학생들이 응시한 시험을 선택하고 해당과목의 점수를 표준화 했을 때 가장 큰 표준화 점수를 구하여라\n",
    "a = df.count()\n",
    "most = df['국어']\n",
    "most = (most - most.mean())/most.std(ddof=0)\n",
    "print(most)\n",
    "most.max()\n"
   ]
  },
  {
   "cell_type": "code",
   "execution_count": 5,
   "metadata": {},
   "outputs": [],
   "source": [
    "DataUrl = 'https://raw.githubusercontent.com/Datamanim/datarepo/main/krdatacertificate/e7_p1.csv '\n",
    "\n",
    "df = pd.read_csv(DataUrl)"
   ]
  },
  {
   "cell_type": "code",
   "execution_count": 6,
   "metadata": {},
   "outputs": [
    {
     "data": {
      "text/html": [
       "<div>\n",
       "<style scoped>\n",
       "    .dataframe tbody tr th:only-of-type {\n",
       "        vertical-align: middle;\n",
       "    }\n",
       "\n",
       "    .dataframe tbody tr th {\n",
       "        vertical-align: top;\n",
       "    }\n",
       "\n",
       "    .dataframe thead th {\n",
       "        text-align: right;\n",
       "    }\n",
       "</style>\n",
       "<table border=\"1\" class=\"dataframe\">\n",
       "  <thead>\n",
       "    <tr style=\"text-align: right;\">\n",
       "      <th></th>\n",
       "      <th>var_1</th>\n",
       "      <th>var_2</th>\n",
       "      <th>var_3</th>\n",
       "      <th>var_4</th>\n",
       "      <th>var_5</th>\n",
       "      <th>var_6</th>\n",
       "      <th>var_7</th>\n",
       "      <th>var_8</th>\n",
       "      <th>var_9</th>\n",
       "      <th>var_10</th>\n",
       "      <th>...</th>\n",
       "      <th>var_23</th>\n",
       "      <th>var_24</th>\n",
       "      <th>var_25</th>\n",
       "      <th>var_26</th>\n",
       "      <th>var_27</th>\n",
       "      <th>var_28</th>\n",
       "      <th>var_29</th>\n",
       "      <th>var_30</th>\n",
       "      <th>var_31</th>\n",
       "      <th>var_32</th>\n",
       "    </tr>\n",
       "  </thead>\n",
       "  <tbody>\n",
       "    <tr>\n",
       "      <th>0</th>\n",
       "      <td>-1.391002</td>\n",
       "      <td>-0.850983</td>\n",
       "      <td>-0.513691</td>\n",
       "      <td>0.368566</td>\n",
       "      <td>-0.995870</td>\n",
       "      <td>-0.462845</td>\n",
       "      <td>0.712370</td>\n",
       "      <td>-0.002177</td>\n",
       "      <td>0.930968</td>\n",
       "      <td>-0.783445</td>\n",
       "      <td>...</td>\n",
       "      <td>-0.391592</td>\n",
       "      <td>2.012210</td>\n",
       "      <td>-0.192955</td>\n",
       "      <td>-0.454944</td>\n",
       "      <td>3.239665</td>\n",
       "      <td>0.443087</td>\n",
       "      <td>-0.447287</td>\n",
       "      <td>1.866867</td>\n",
       "      <td>0.160321</td>\n",
       "      <td>-0.731065</td>\n",
       "    </tr>\n",
       "    <tr>\n",
       "      <th>1</th>\n",
       "      <td>0.784527</td>\n",
       "      <td>-0.498734</td>\n",
       "      <td>0.390508</td>\n",
       "      <td>1.791571</td>\n",
       "      <td>0.146126</td>\n",
       "      <td>0.105268</td>\n",
       "      <td>1.742046</td>\n",
       "      <td>-0.529215</td>\n",
       "      <td>0.408849</td>\n",
       "      <td>-0.444730</td>\n",
       "      <td>...</td>\n",
       "      <td>0.223946</td>\n",
       "      <td>0.413712</td>\n",
       "      <td>1.825242</td>\n",
       "      <td>-0.277639</td>\n",
       "      <td>-0.915250</td>\n",
       "      <td>0.677434</td>\n",
       "      <td>0.895608</td>\n",
       "      <td>0.184602</td>\n",
       "      <td>0.478908</td>\n",
       "      <td>1.199653</td>\n",
       "    </tr>\n",
       "    <tr>\n",
       "      <th>2</th>\n",
       "      <td>0.123739</td>\n",
       "      <td>-0.738247</td>\n",
       "      <td>-0.841689</td>\n",
       "      <td>1.416952</td>\n",
       "      <td>-1.074132</td>\n",
       "      <td>-1.583617</td>\n",
       "      <td>2.233604</td>\n",
       "      <td>1.355339</td>\n",
       "      <td>0.526923</td>\n",
       "      <td>-1.083996</td>\n",
       "      <td>...</td>\n",
       "      <td>0.299732</td>\n",
       "      <td>-0.622756</td>\n",
       "      <td>0.035789</td>\n",
       "      <td>-0.473762</td>\n",
       "      <td>-0.417011</td>\n",
       "      <td>0.725215</td>\n",
       "      <td>-0.308298</td>\n",
       "      <td>1.391172</td>\n",
       "      <td>-1.965324</td>\n",
       "      <td>0.876690</td>\n",
       "    </tr>\n",
       "    <tr>\n",
       "      <th>3</th>\n",
       "      <td>-0.063011</td>\n",
       "      <td>-0.643285</td>\n",
       "      <td>-0.703891</td>\n",
       "      <td>-0.069113</td>\n",
       "      <td>-0.299132</td>\n",
       "      <td>1.666068</td>\n",
       "      <td>-0.692570</td>\n",
       "      <td>-1.670728</td>\n",
       "      <td>-0.711482</td>\n",
       "      <td>0.020709</td>\n",
       "      <td>...</td>\n",
       "      <td>0.837597</td>\n",
       "      <td>-0.631480</td>\n",
       "      <td>0.629603</td>\n",
       "      <td>0.269285</td>\n",
       "      <td>0.383614</td>\n",
       "      <td>-0.498738</td>\n",
       "      <td>-0.349557</td>\n",
       "      <td>0.188382</td>\n",
       "      <td>-0.870678</td>\n",
       "      <td>1.087722</td>\n",
       "    </tr>\n",
       "    <tr>\n",
       "      <th>4</th>\n",
       "      <td>-2.141459</td>\n",
       "      <td>1.597715</td>\n",
       "      <td>0.852253</td>\n",
       "      <td>-1.209324</td>\n",
       "      <td>0.435828</td>\n",
       "      <td>-0.359420</td>\n",
       "      <td>0.232829</td>\n",
       "      <td>0.051568</td>\n",
       "      <td>-0.114399</td>\n",
       "      <td>-0.303520</td>\n",
       "      <td>...</td>\n",
       "      <td>1.393643</td>\n",
       "      <td>-0.242140</td>\n",
       "      <td>0.557022</td>\n",
       "      <td>2.344906</td>\n",
       "      <td>0.427841</td>\n",
       "      <td>-0.679836</td>\n",
       "      <td>0.325272</td>\n",
       "      <td>1.419639</td>\n",
       "      <td>-0.978851</td>\n",
       "      <td>-0.779148</td>\n",
       "    </tr>\n",
       "  </tbody>\n",
       "</table>\n",
       "<p>5 rows × 32 columns</p>\n",
       "</div>"
      ],
      "text/plain": [
       "      var_1     var_2     var_3     var_4     var_5     var_6     var_7  \\\n",
       "0 -1.391002 -0.850983 -0.513691  0.368566 -0.995870 -0.462845  0.712370   \n",
       "1  0.784527 -0.498734  0.390508  1.791571  0.146126  0.105268  1.742046   \n",
       "2  0.123739 -0.738247 -0.841689  1.416952 -1.074132 -1.583617  2.233604   \n",
       "3 -0.063011 -0.643285 -0.703891 -0.069113 -0.299132  1.666068 -0.692570   \n",
       "4 -2.141459  1.597715  0.852253 -1.209324  0.435828 -0.359420  0.232829   \n",
       "\n",
       "      var_8     var_9    var_10  ...    var_23    var_24    var_25    var_26  \\\n",
       "0 -0.002177  0.930968 -0.783445  ... -0.391592  2.012210 -0.192955 -0.454944   \n",
       "1 -0.529215  0.408849 -0.444730  ...  0.223946  0.413712  1.825242 -0.277639   \n",
       "2  1.355339  0.526923 -1.083996  ...  0.299732 -0.622756  0.035789 -0.473762   \n",
       "3 -1.670728 -0.711482  0.020709  ...  0.837597 -0.631480  0.629603  0.269285   \n",
       "4  0.051568 -0.114399 -0.303520  ...  1.393643 -0.242140  0.557022  2.344906   \n",
       "\n",
       "     var_27    var_28    var_29    var_30    var_31    var_32  \n",
       "0  3.239665  0.443087 -0.447287  1.866867  0.160321 -0.731065  \n",
       "1 -0.915250  0.677434  0.895608  0.184602  0.478908  1.199653  \n",
       "2 -0.417011  0.725215 -0.308298  1.391172 -1.965324  0.876690  \n",
       "3  0.383614 -0.498738 -0.349557  0.188382 -0.870678  1.087722  \n",
       "4  0.427841 -0.679836  0.325272  1.419639 -0.978851 -0.779148  \n",
       "\n",
       "[5 rows x 32 columns]"
      ]
     },
     "execution_count": 6,
     "metadata": {},
     "output_type": "execute_result"
    }
   ],
   "source": [
    "# 1-2\n",
    "DataUrl = 'https://raw.githubusercontent.com/Datamanim/datarepo/main/krdatacertificate/e7_p2.csv'\n",
    "\n",
    "import pandas as pd\n",
    "df = pd.read_csv(DataUrl).iloc[:,:32]\n",
    "df.head()"
   ]
  },
  {
   "cell_type": "code",
   "execution_count": 7,
   "metadata": {},
   "outputs": [
    {
     "data": {
      "text/plain": [
       "-0.0742760918778161"
      ]
     },
     "execution_count": 7,
     "metadata": {},
     "output_type": "execute_result"
    }
   ],
   "source": [
    "df.corr()['var_11'].abs().sort_values() #var_4\n",
    "df['var_4'].mean()"
   ]
  },
  {
   "cell_type": "code",
   "execution_count": 8,
   "metadata": {},
   "outputs": [
    {
     "name": "stdout",
     "output_type": "stream",
     "text": [
      "-0.0742760918778161\n"
     ]
    }
   ],
   "source": [
    "max_v = df.corr()['var_11'].abs().sort_values().index[-2]\n",
    "r = df[max_v].mean()\n",
    "print(r)"
   ]
  },
  {
   "cell_type": "code",
   "execution_count": 9,
   "metadata": {},
   "outputs": [
    {
     "data": {
      "text/html": [
       "<div>\n",
       "<style scoped>\n",
       "    .dataframe tbody tr th:only-of-type {\n",
       "        vertical-align: middle;\n",
       "    }\n",
       "\n",
       "    .dataframe tbody tr th {\n",
       "        vertical-align: top;\n",
       "    }\n",
       "\n",
       "    .dataframe thead th {\n",
       "        text-align: right;\n",
       "    }\n",
       "</style>\n",
       "<table border=\"1\" class=\"dataframe\">\n",
       "  <thead>\n",
       "    <tr style=\"text-align: right;\">\n",
       "      <th></th>\n",
       "      <th>var_1</th>\n",
       "      <th>var_2</th>\n",
       "      <th>var_3</th>\n",
       "      <th>var_4</th>\n",
       "      <th>var_5</th>\n",
       "      <th>var_6</th>\n",
       "      <th>var_7</th>\n",
       "      <th>var_8</th>\n",
       "      <th>var_9</th>\n",
       "      <th>var_10</th>\n",
       "      <th>var_11</th>\n",
       "      <th>var_12</th>\n",
       "    </tr>\n",
       "  </thead>\n",
       "  <tbody>\n",
       "    <tr>\n",
       "      <th>0</th>\n",
       "      <td>-0.401584</td>\n",
       "      <td>0.007198</td>\n",
       "      <td>-0.134910</td>\n",
       "      <td>-0.419514</td>\n",
       "      <td>-0.686331</td>\n",
       "      <td>-1.174550</td>\n",
       "      <td>-0.499150</td>\n",
       "      <td>-0.557510</td>\n",
       "      <td>0.357347</td>\n",
       "      <td>0.844209</td>\n",
       "      <td>0.082097</td>\n",
       "      <td>0.475098</td>\n",
       "    </tr>\n",
       "    <tr>\n",
       "      <th>1</th>\n",
       "      <td>1.064622</td>\n",
       "      <td>-0.531247</td>\n",
       "      <td>0.571185</td>\n",
       "      <td>-0.762243</td>\n",
       "      <td>-1.456043</td>\n",
       "      <td>0.355432</td>\n",
       "      <td>0.880010</td>\n",
       "      <td>0.523183</td>\n",
       "      <td>-0.141733</td>\n",
       "      <td>0.301472</td>\n",
       "      <td>0.840299</td>\n",
       "      <td>-0.045113</td>\n",
       "    </tr>\n",
       "    <tr>\n",
       "      <th>2</th>\n",
       "      <td>0.900195</td>\n",
       "      <td>-1.148496</td>\n",
       "      <td>-0.718437</td>\n",
       "      <td>-2.315266</td>\n",
       "      <td>-0.755505</td>\n",
       "      <td>0.630923</td>\n",
       "      <td>0.586027</td>\n",
       "      <td>0.086497</td>\n",
       "      <td>-0.381657</td>\n",
       "      <td>-1.602532</td>\n",
       "      <td>1.566340</td>\n",
       "      <td>-0.654105</td>\n",
       "    </tr>\n",
       "    <tr>\n",
       "      <th>3</th>\n",
       "      <td>1.199227</td>\n",
       "      <td>-0.114200</td>\n",
       "      <td>0.101536</td>\n",
       "      <td>-1.851971</td>\n",
       "      <td>-0.672844</td>\n",
       "      <td>0.796077</td>\n",
       "      <td>0.644246</td>\n",
       "      <td>-0.836296</td>\n",
       "      <td>-1.707074</td>\n",
       "      <td>0.376281</td>\n",
       "      <td>1.303967</td>\n",
       "      <td>1.228015</td>\n",
       "    </tr>\n",
       "    <tr>\n",
       "      <th>4</th>\n",
       "      <td>0.607393</td>\n",
       "      <td>1.675917</td>\n",
       "      <td>1.063759</td>\n",
       "      <td>-0.799493</td>\n",
       "      <td>-0.959568</td>\n",
       "      <td>-0.103007</td>\n",
       "      <td>-0.245984</td>\n",
       "      <td>-0.059492</td>\n",
       "      <td>0.293592</td>\n",
       "      <td>-0.517044</td>\n",
       "      <td>0.100772</td>\n",
       "      <td>0.403833</td>\n",
       "    </tr>\n",
       "  </tbody>\n",
       "</table>\n",
       "</div>"
      ],
      "text/plain": [
       "      var_1     var_2     var_3     var_4     var_5     var_6     var_7  \\\n",
       "0 -0.401584  0.007198 -0.134910 -0.419514 -0.686331 -1.174550 -0.499150   \n",
       "1  1.064622 -0.531247  0.571185 -0.762243 -1.456043  0.355432  0.880010   \n",
       "2  0.900195 -1.148496 -0.718437 -2.315266 -0.755505  0.630923  0.586027   \n",
       "3  1.199227 -0.114200  0.101536 -1.851971 -0.672844  0.796077  0.644246   \n",
       "4  0.607393  1.675917  1.063759 -0.799493 -0.959568 -0.103007 -0.245984   \n",
       "\n",
       "      var_8     var_9    var_10    var_11    var_12  \n",
       "0 -0.557510  0.357347  0.844209  0.082097  0.475098  \n",
       "1  0.523183 -0.141733  0.301472  0.840299 -0.045113  \n",
       "2  0.086497 -0.381657 -1.602532  1.566340 -0.654105  \n",
       "3 -0.836296 -1.707074  0.376281  1.303967  1.228015  \n",
       "4 -0.059492  0.293592 -0.517044  0.100772  0.403833  "
      ]
     },
     "execution_count": 9,
     "metadata": {},
     "output_type": "execute_result"
    }
   ],
   "source": [
    "# 1_3 **var_6 컬럼의 1,3사분위수 각각 IQR의 1.5배 벗어난 이상치의 개수를 구하라 **\n",
    "DataUrl = 'https://raw.githubusercontent.com/Datamanim/datarepo/main/krdatacertificate/e7_p3.csv'\n",
    "\n",
    "df = pd.read_csv(DataUrl)\n",
    "df.head()"
   ]
  },
  {
   "cell_type": "code",
   "execution_count": 10,
   "metadata": {},
   "outputs": [
    {
     "data": {
      "text/plain": [
       "8"
      ]
     },
     "execution_count": 10,
     "metadata": {},
     "output_type": "execute_result"
    }
   ],
   "source": [
    "target = df['var_6']\n",
    "q1 = target.quantile(0.25)\n",
    "q3 = target.quantile(0.75)\n",
    "iqr = q3-q1\n",
    " \n",
    "# IQR의 1.5배 벗어난 이상치\n",
    "min = q1-1.5*iqr\n",
    "max = q3+1.5*iqr\n",
    "\n",
    "r = df[(df['var_6']<min)|(df['var_6']>max)] #var_6에서 이상치의 개수를 count\n",
    "\n",
    "r.shape[0]"
   ]
  },
  {
   "cell_type": "markdown",
   "metadata": {},
   "source": [
    "### 작업 2유형"
   ]
  },
  {
   "cell_type": "code",
   "execution_count": null,
   "metadata": {},
   "outputs": [],
   "source": []
  },
  {
   "cell_type": "code",
   "execution_count": null,
   "metadata": {},
   "outputs": [],
   "source": []
  }
 ],
 "metadata": {
  "kernelspec": {
   "display_name": "Python 3",
   "language": "python",
   "name": "python3"
  },
  "language_info": {
   "codemirror_mode": {
    "name": "ipython",
    "version": 3
   },
   "file_extension": ".py",
   "mimetype": "text/x-python",
   "name": "python",
   "nbconvert_exporter": "python",
   "pygments_lexer": "ipython3",
   "version": "3.9.6"
  }
 },
 "nbformat": 4,
 "nbformat_minor": 2
}
